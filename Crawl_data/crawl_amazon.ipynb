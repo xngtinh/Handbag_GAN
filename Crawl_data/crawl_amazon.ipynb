{
 "cells": [
  {
   "cell_type": "code",
   "execution_count": 1,
   "metadata": {},
   "outputs": [],
   "source": [
    "from selenium import webdriver\n",
    "from selenium.webdriver.common.keys import Keys\n",
    "import time\n",
    "import os\n",
    "import requests as rq\n",
    "driver = webdriver.Chrome('D:/NCKH/Soft/chromedriver.exe')"
   ]
  },
  {
   "cell_type": "code",
   "execution_count": 2,
   "metadata": {},
   "outputs": [],
   "source": [
    "# Chọn trang cần Crawl\n",
    "driver.get('https://www.amazon.com/s?k=satchel&ref=nb_sb_noss_1')"
   ]
  },
  {
   "cell_type": "code",
   "execution_count": null,
   "metadata": {},
   "outputs": [],
   "source": [
    "# Tìm vị trí của ô Search\n",
    "textbox = driver.find_element_by_id('twotabsearchtextbox')"
   ]
  },
  {
   "cell_type": "code",
   "execution_count": 4,
   "metadata": {},
   "outputs": [],
   "source": [
    "# Tìm sản phẩm với từ khóa \"backpack\"\n",
    "textbox.clear()\n",
    "textbox.send_keys(\"clutch\")\n",
    "textbox.send_keys(Keys.ENTER)\n",
    "time.sleep(10)"
   ]
  },
  {
   "cell_type": "code",
   "execution_count": 11,
   "metadata": {},
   "outputs": [],
   "source": [
    "# Tạo danh sách rỗng và sô page cần crawl\n",
    "links = []\n",
    "begin = 0\n",
    "end = 6"
   ]
  },
  {
   "cell_type": "code",
   "execution_count": null,
   "metadata": {},
   "outputs": [],
   "source": [
    "# lenOfPage = driver.execute_script(\"window.scrollTo(0, document.body.scrollHeight);var lenOfPage=document.body.scrollHeight;return lenOfPage;\")\n",
    "# match=False\n",
    "# while(match==False):\n",
    "#         lastCount = lenOfPage\n",
    "#         time.sleep(20)\n",
    "#         lenOfPage = driver.execute_script(\"window.scrollTo(0, document.body.scrollHeight);var lenOfPage=document.body.scrollHeight;return lenOfPage;\")\n",
    "#         if lastCount==lenOfPage:\n",
    "#             match=True"
   ]
  },
  {
   "cell_type": "code",
   "execution_count": null,
   "metadata": {},
   "outputs": [],
   "source": [
    "# driver.execute_script(\"window.scrollTo(0,document.body.scrollHeight)\")"
   ]
  },
  {
   "cell_type": "code",
   "execution_count": 4,
   "metadata": {},
   "outputs": [],
   "source": [
    "# driver.execute_script(\"window.scrollTo(0, 1080)\") \n",
    "# time.sleep(3000)\n",
    "all = driver.find_elements_by_class_name('s-image-square-aspect')\n",
    "# time.sleep(50)\n",
    "for element in all:\n",
    "        product = element.find_element_by_class_name('s-image') \n",
    "        links.append(product.get_property('src'))"
   ]
  },
  {
   "cell_type": "code",
   "execution_count": 4,
   "metadata": {},
   "outputs": [
    {
     "data": {
      "text/plain": [
       "0"
      ]
     },
     "execution_count": 4,
     "metadata": {},
     "output_type": "execute_result"
    }
   ],
   "source": [
    "len(links)"
   ]
  },
  {
   "cell_type": "code",
   "execution_count": null,
   "metadata": {},
   "outputs": [],
   "source": [
    "# Bắt đầu crawl trong từng page và lưu links\n",
    "while True:\n",
    "    time.sleep(10)\n",
    "    all = driver.find_elements_by_class_name('s-image-square-aspect')\n",
    "    for element in all:\n",
    "        product = element.find_element_by_class_name('s-image') \n",
    "        links.append(product.get_property('src'))\n",
    "    print(begin)\n",
    "    if begin == end:\n",
    "        break\n",
    "    begin += 1\n",
    "    \n",
    "\n",
    "    next = driver.find_element_by_class_name('a-pagination')\n",
    "    a = next.find_element_by_partial_link_text('Next')\n",
    "    url = a.get_property('href')\n",
    "    driver.get(url)\n",
    "    "
   ]
  },
  {
   "cell_type": "code",
   "execution_count": 6,
   "metadata": {},
   "outputs": [
    {
     "data": {
      "text/plain": [
       "391"
      ]
     },
     "execution_count": 6,
     "metadata": {},
     "output_type": "execute_result"
    }
   ],
   "source": [
    "len(links)"
   ]
  },
  {
   "cell_type": "code",
   "execution_count": 7,
   "metadata": {},
   "outputs": [],
   "source": [
    "# Xóa những links không cần thiết\n",
    "for element in links:\n",
    "    if element == 'https://images-na.ssl-images-amazon.com/images/G/01/x-locale/common/grey-pixel.gif':\n",
    "        links.remove(element)"
   ]
  },
  {
   "cell_type": "markdown",
   "metadata": {},
   "source": [
    "Xóa link giống nhau"
   ]
  },
  {
   "cell_type": "code",
   "execution_count": 8,
   "metadata": {},
   "outputs": [
    {
     "data": {
      "text/plain": [
       "371"
      ]
     },
     "execution_count": 8,
     "metadata": {},
     "output_type": "execute_result"
    }
   ],
   "source": [
    "from collections import OrderedDict\n",
    "links = list( set(links) )\n",
    "links = list( OrderedDict.fromkeys(links) )\n",
    "len(links)"
   ]
  },
  {
   "cell_type": "code",
   "execution_count": 10,
   "metadata": {},
   "outputs": [],
   "source": [
    "# Lưu dataset\n",
    "if not os.path.exists('D://NCKH/Datasets/satchel/satchel_amazon'):\n",
    "    os.mkdir('D://NCKH/Datasets/satchel/satchel_amazon')\n",
    "i = 0\n",
    "\n",
    "for index, img_link in enumerate(links):\n",
    "    img_data = rq.get(img_link).content\n",
    "    with open(\"D://NCKH/Datasets/satchel/satchel_amazon/\"+'satchel_'+str(index+1)+'.jpg', 'wb+') as f:\n",
    "        f.write(img_data)\n",
    "    i += 1"
   ]
  },
  {
   "cell_type": "code",
   "execution_count": null,
   "metadata": {},
   "outputs": [],
   "source": []
  }
 ],
 "metadata": {
  "kernelspec": {
   "display_name": "Python 3",
   "language": "python",
   "name": "python3"
  },
  "language_info": {
   "codemirror_mode": {
    "name": "ipython",
    "version": 3
   },
   "file_extension": ".py",
   "mimetype": "text/x-python",
   "name": "python",
   "nbconvert_exporter": "python",
   "pygments_lexer": "ipython3",
   "version": "3.7.9"
  }
 },
 "nbformat": 4,
 "nbformat_minor": 4
}
