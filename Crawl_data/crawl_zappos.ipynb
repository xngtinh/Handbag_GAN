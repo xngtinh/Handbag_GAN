{
 "cells": [
  {
   "cell_type": "code",
   "execution_count": 1,
   "metadata": {},
   "outputs": [],
   "source": [
    "from selenium import webdriver\n",
    "from selenium.webdriver.common.keys import Keys\n",
    "import time\n",
    "import os\n",
    "import requests as rq"
   ]
  },
  {
   "cell_type": "code",
   "execution_count": 2,
   "metadata": {},
   "outputs": [],
   "source": [
    "# Tạo danh sách rỗng để chứa link hình\n",
    "links = []\n",
    "begin = 0\n",
    "end = 3"
   ]
  },
  {
   "cell_type": "code",
   "execution_count": 3,
   "metadata": {},
   "outputs": [],
   "source": [
    "driver = webdriver.Chrome('D:/NCKH/Soft/chromedriver.exe')\n",
    "# Chèn đường dẫn của mỗi page\n",
    "driver.get('https://www.zappos.com/satchel')\n",
    "# ---------------------------Nhớ scroll chuột đến cuối trang----------------------"
   ]
  },
  {
   "cell_type": "code",
   "execution_count": 33,
   "metadata": {},
   "outputs": [],
   "source": [
    "scheight = .1\n",
    "while scheight < 9.9:\n",
    "    driver.execute_script(\"window.scrollTo(0, document.body.scrollHeight/%s);\" % scheight)\n",
    "    scheight += .01\n",
    "\n",
    "all = driver.find_elements_by_class_name('Or-z')\n",
    "for element in all:\n",
    "        product = element.find_element_by_class_name('sx-z') \n",
    "        links.append(product.get_property('src'))"
   ]
  },
  {
   "cell_type": "code",
   "execution_count": 4,
   "metadata": {},
   "outputs": [
    {
     "data": {
      "text/plain": [
       "0"
      ]
     },
     "execution_count": 4,
     "metadata": {},
     "output_type": "execute_result"
    }
   ],
   "source": [
    "len(links)"
   ]
  },
  {
   "cell_type": "code",
   "execution_count": 5,
   "metadata": {},
   "outputs": [
    {
     "name": "stdout",
     "output_type": "stream",
     "text": [
      "0\n",
      "1\n",
      "2\n",
      "3\n"
     ]
    }
   ],
   "source": [
    "# Bắt đầu crawl trong từng page và lưu links\n",
    "while True:\n",
    "    scheight = .1\n",
    "    while scheight < 9.9:\n",
    "        driver.execute_script(\"window.scrollTo(0, document.body.scrollHeight/%s);\" % scheight)\n",
    "        scheight += .01\n",
    "    all = driver.find_elements_by_class_name('Or-z')\n",
    "    for element in all:\n",
    "        product = element.find_element_by_class_name('sx-z') \n",
    "        links.append(product.get_property('src'))\n",
    "    print(begin)\n",
    "    if begin == end:\n",
    "        break\n",
    "    \n",
    "    begin += 1\n",
    "    \n",
    "\n",
    "    next = driver.find_element_by_class_name('jr-z')\n",
    "    a = next.find_element_by_class_name('lr-z')\n",
    "    url = a.get_property('href')\n",
    "    driver.get(url)\n",
    "    "
   ]
  },
  {
   "cell_type": "code",
   "execution_count": 6,
   "metadata": {},
   "outputs": [
    {
     "data": {
      "text/plain": [
       "399"
      ]
     },
     "execution_count": 6,
     "metadata": {},
     "output_type": "execute_result"
    }
   ],
   "source": [
    "len(links)"
   ]
  },
  {
   "cell_type": "markdown",
   "metadata": {},
   "source": [
    "Xóa link giống nhau"
   ]
  },
  {
   "cell_type": "code",
   "execution_count": 7,
   "metadata": {},
   "outputs": [
    {
     "data": {
      "text/plain": [
       "399"
      ]
     },
     "execution_count": 7,
     "metadata": {},
     "output_type": "execute_result"
    }
   ],
   "source": [
    "from collections import OrderedDict\n",
    "links = list( set(links) )\n",
    "links = list( OrderedDict.fromkeys(links) )\n",
    "len(links)"
   ]
  },
  {
   "cell_type": "code",
   "execution_count": 9,
   "metadata": {},
   "outputs": [
    {
     "data": {
      "text/plain": [
       "399"
      ]
     },
     "execution_count": 9,
     "metadata": {},
     "output_type": "execute_result"
    }
   ],
   "source": [
    "len(links)"
   ]
  },
  {
   "cell_type": "code",
   "execution_count": 12,
   "metadata": {},
   "outputs": [],
   "source": [
    "# Lưu dataset\n",
    "if not os.path.exists('D://NCKH/Datasets/satchel/satchel_zappos'):\n",
    "    os.mkdir('D://NCKH/Datasets/satchel/satchel_zappos')\n",
    "i = 0\n",
    "\n",
    "for index, img_link in enumerate(links):\n",
    "    img_data = rq.get(img_link).content\n",
    "    with open(\"D://NCKH/Datasets/satchel/satchel_zappos/\"+'satchel_'+str(index+1)+'.jpg', 'wb+') as f:\n",
    "        f.write(img_data)\n",
    "    i += 1"
   ]
  },
  {
   "cell_type": "code",
   "execution_count": null,
   "metadata": {},
   "outputs": [],
   "source": []
  }
 ],
 "metadata": {
  "kernelspec": {
   "display_name": "Python 3",
   "language": "python",
   "name": "python3"
  },
  "language_info": {
   "codemirror_mode": {
    "name": "ipython",
    "version": 3
   },
   "file_extension": ".py",
   "mimetype": "text/x-python",
   "name": "python",
   "nbconvert_exporter": "python",
   "pygments_lexer": "ipython3",
   "version": "3.7.9"
  }
 },
 "nbformat": 4,
 "nbformat_minor": 4
}
